{
 "cells": [
  {
   "cell_type": "code",
   "execution_count": 1,
   "metadata": {},
   "outputs": [
    {
     "name": "stdout",
     "output_type": "stream",
     "text": [
      "2.15.0\n",
      "3.0.2\n"
     ]
    }
   ],
   "source": [
    "import tensorflow as tf\n",
    "import keras\n",
    "import numpy as np\n",
    "print(tf.version.VERSION)\n",
    "print(keras.__version__)\n"
   ]
  },
  {
   "cell_type": "code",
   "execution_count": 5,
   "metadata": {},
   "outputs": [
    {
     "name": "stderr",
     "output_type": "stream",
     "text": [
      "c:\\Users\\AlxMa\\AppData\\Local\\Programs\\Python\\Python311\\Lib\\site-packages\\keras\\src\\layers\\convolutional\\base_conv.py:99: UserWarning: Do not pass an `input_shape`/`input_dim` argument to a layer. When using Sequential models, prefer using an `Input(shape)` object as the first layer in the model instead.\n",
      "  super().__init__(\n",
      "WARNING:absl:Compiled the loaded model, but the compiled metrics have yet to be built. `model.compile_metrics` will be empty until you train or evaluate the model.\n",
      "WARNING:absl:Error in loading the saved optimizer state. As a result, your model is starting with a freshly initialized optimizer.\n"
     ]
    },
    {
     "name": "stdout",
     "output_type": "stream",
     "text": [
      "Modelo cargado**\n"
     ]
    }
   ],
   "source": [
    "def get_model():\n",
    "    global model\n",
    "    model = keras.models.load_model('mexican_emo_ser/models/model2_cnn2d.h5')\n",
    "    print('Modelo cargado**')\n",
    "    \n",
    "get_model()"
   ]
  },
  {
   "cell_type": "code",
   "execution_count": 6,
   "metadata": {},
   "outputs": [],
   "source": [
    "import librosa\n",
    "\n",
    "path = r'C:\\Users\\AlxMa\\Desktop\\Tesis\\MESD\\cy34mh68j9-4\\cy34mh68j9-4\\Mexican Emotional Speech Database (MESD)'\n",
    "sampling_rate = 16000\n",
    "\n",
    "def load_audio(audio_path):\n",
    "    audio,sr = librosa.load(audio_path, sr=sampling_rate)\n",
    "    return audio"
   ]
  },
  {
   "cell_type": "code",
   "execution_count": 102,
   "metadata": {},
   "outputs": [],
   "source": [
    "import os\n",
    "audio_path = r'C:\\Users\\AlxMa\\Desktop\\Maestría\\1er semestre\\Sistemas reconfigurables\\miedo.wav'\n",
    "audio = load_audio(audio_path)"
   ]
  },
  {
   "cell_type": "code",
   "execution_count": 106,
   "metadata": {},
   "outputs": [],
   "source": [
    "def extract_features(data):\n",
    "    # ZCR\n",
    "    result = np.array([])\n",
    "    zcr = np.mean(librosa.feature.zero_crossing_rate(y=data).T,axis=0)\n",
    "    result = np.hstack((result,zcr)) #stacking horizontally\n",
    "\n",
    "    # Chroma_stft\n",
    "    stft = np.abs(librosa.stft(data))\n",
    "    chroma_stft = np.mean(librosa.feature.chroma_stft(S=stft, sr=sampling_rate).T,axis=0)\n",
    "    resutl = np.hstack((result,chroma_stft))\n",
    "\n",
    "    # MFCC\n",
    "    mfcc = np.mean(librosa.feature.mfcc(y=data, sr=sampling_rate).T, axis=0)\n",
    "    result = np.hstack((result, mfcc)) \n",
    "\n",
    "    # Root Mean Square Value\n",
    "    rms = np.mean(librosa.feature.rms(y=data).T, axis=0)\n",
    "    result = np.hstack((result, rms)) \n",
    "\n",
    "    # MelSpectogram\n",
    "    mel = np.mean(librosa.feature.melspectrogram(y=data, sr=sampling_rate).T, axis=0)\n",
    "    result = np.hstack((result, mel)) \n",
    "    \n",
    "    print(result.shape)\n",
    "    return result"
   ]
  },
  {
   "cell_type": "code",
   "execution_count": 107,
   "metadata": {},
   "outputs": [
    {
     "name": "stdout",
     "output_type": "stream",
     "text": [
      "(150,)\n",
      "\u001b[1m1/1\u001b[0m \u001b[32m━━━━━━━━━━━━━━━━━━━━\u001b[0m\u001b[37m\u001b[0m \u001b[1m0s\u001b[0m 48ms/step\n"
     ]
    }
   ],
   "source": [
    "features = extract_features(audio)\n",
    "features.shape\n",
    "features = features.reshape(1,-1)\n",
    "prediction = model.predict(features)"
   ]
  },
  {
   "cell_type": "code",
   "execution_count": 108,
   "metadata": {},
   "outputs": [
    {
     "name": "stdout",
     "output_type": "stream",
     "text": [
      "[7.5775208e-03 1.0552799e-02 1.3656817e-04 9.2233032e-01 6.4663362e-04\n",
      " 5.8756176e-02]\n",
      "[3]\n",
      "['happiness']\n"
     ]
    }
   ],
   "source": [
    "print(prediction[0])\n",
    "\n",
    "pred_int = [(max(enumerate(prediction[0]), key=lambda x: x[1])[0])]\n",
    "print(pred_int)\n",
    "# Hacer conversión a valores enteros\n",
    "label_map = {0:'anger', 1:'disgust', 2:'fear', 3:'happiness', 4:'neutral', \n",
    "             5:'sadness'}\n",
    "\n",
    "pred_label = [label_map[l] for l in pred_int]\n",
    "print(pred_label)"
   ]
  }
 ],
 "metadata": {
  "kernelspec": {
   "display_name": "Python 3",
   "language": "python",
   "name": "python3"
  },
  "language_info": {
   "codemirror_mode": {
    "name": "ipython",
    "version": 3
   },
   "file_extension": ".py",
   "mimetype": "text/x-python",
   "name": "python",
   "nbconvert_exporter": "python",
   "pygments_lexer": "ipython3",
   "version": "3.11.1"
  }
 },
 "nbformat": 4,
 "nbformat_minor": 2
}
